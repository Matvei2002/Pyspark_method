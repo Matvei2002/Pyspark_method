{
  "nbformat": 4,
  "nbformat_minor": 0,
  "metadata": {
    "colab": {
      "provenance": [],
      "authorship_tag": "ABX9TyPzk0CzqnKYBOEuO1VLurUa",
      "include_colab_link": true
    },
    "kernelspec": {
      "name": "python3",
      "display_name": "Python 3"
    },
    "language_info": {
      "name": "python"
    }
  },
  "cells": [
    {
      "cell_type": "markdown",
      "metadata": {
        "id": "view-in-github",
        "colab_type": "text"
      },
      "source": [
        "<a href=\"https://colab.research.google.com/github/Matvei2002/Pyspark_method/blob/main/Pyspark.ipynb\" target=\"_parent\"><img src=\"https://colab.research.google.com/assets/colab-badge.svg\" alt=\"Open In Colab\"/></a>"
      ]
    },
    {
      "cell_type": "code",
      "source": [
        "from pyspark.sql import SparkSession\n",
        "from pyspark.sql.functions import col, explode"
      ],
      "metadata": {
        "id": "Zkj1EM8Vorls"
      },
      "execution_count": 29,
      "outputs": []
    },
    {
      "cell_type": "code",
      "source": [
        "# Создаем сессию Spark\n",
        "spark = SparkSession.builder.appName(\"ProductCategories\").getOrCreate()"
      ],
      "metadata": {
        "id": "1dp1uU6dRDes"
      },
      "execution_count": 12,
      "outputs": []
    },
    {
      "cell_type": "code",
      "source": [
        "# Пример исходного датафрейма\n",
        "data = [(\"Продукт1\", [\"Категория1\", \"Категория2\"]),\n",
        "        (\"Продукт2\", [\"Категория1\", \"Категория2\", \"Категория3\"]),\n",
        "        (\"Продукт3\", [\"Категория1\"]),\n",
        "        (\"Продукт4\", [None])]\n",
        "\n",
        "columns = [\"Product\", \"Categories\"]\n",
        "\n",
        "df = spark.createDataFrame(data, columns)"
      ],
      "metadata": {
        "id": "KF9I5XOsRIcH"
      },
      "execution_count": 20,
      "outputs": []
    },
    {
      "cell_type": "code",
      "source": [
        "# Разделяем категории на отдельные записи\n",
        "df = df.withColumn(\"Category\", explode(col(\"Categories\")))"
      ],
      "metadata": {
        "id": "v1WEmAEzRQI2"
      },
      "execution_count": 21,
      "outputs": []
    },
    {
      "cell_type": "code",
      "source": [
        "# Создаем датафрейм с продуктами и категориями\n",
        "product_df = df.select(\"Product\", \"Category\")"
      ],
      "metadata": {
        "id": "suCxzzNdRT24"
      },
      "execution_count": 22,
      "outputs": []
    },
    {
      "cell_type": "code",
      "source": [
        "# Создаем датафрейм с продуктами без категорий\n",
        "no_category_df = df.filter(col(\"Categories\").isNull()).select(\"Product\").withColumn(\"Category\", col(\"Product\"))"
      ],
      "metadata": {
        "id": "VECnwfk8blTy"
      },
      "execution_count": 23,
      "outputs": []
    },
    {
      "cell_type": "code",
      "source": [
        "# Объединяем продукты с категориями и продукты без категорий с помощью левого объединения\n",
        "result_df = product_df.union(no_category_df)"
      ],
      "metadata": {
        "id": "B2nMma7kUp-F"
      },
      "execution_count": 24,
      "outputs": []
    },
    {
      "cell_type": "code",
      "source": [
        "# В результирующем датафрейме присутствуют продукты с их категориями и продукты без категорий\n",
        "result_df.show()"
      ],
      "metadata": {
        "colab": {
          "base_uri": "https://localhost:8080/"
        },
        "id": "5FjD3OnSSfz7",
        "outputId": "846dae97-12d9-4f96-e75b-acd89c670791"
      },
      "execution_count": 25,
      "outputs": [
        {
          "output_type": "stream",
          "name": "stdout",
          "text": [
            "+--------+----------+\n",
            "| Product|  Category|\n",
            "+--------+----------+\n",
            "|Продукт1|Категория1|\n",
            "|Продукт1|Категория2|\n",
            "|Продукт2|Категория1|\n",
            "|Продукт2|Категория2|\n",
            "|Продукт2|Категория3|\n",
            "|Продукт3|Категория1|\n",
            "|Продукт4|      NULL|\n",
            "+--------+----------+\n",
            "\n"
          ]
        }
      ]
    }
  ]
}